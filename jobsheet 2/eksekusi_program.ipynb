{
 "cells": [
  {
   "cell_type": "code",
   "execution_count": 1,
   "metadata": {},
   "outputs": [
    {
     "name": "stdout",
     "output_type": "stream",
     "text": [
      "HP Redmi, 14T Pro, tahun 2024, harga: Rp 9000000\n",
      "----------------------------------------\n",
      "HP Apple, iphone 13, tahun 2022, harga: Rp 13500000\n",
      "----------------------------------------\n",
      "Harga setelah diskon 5%: Rp 8550000.0\n",
      "----------------------------------------\n",
      "Harga setelah diskon 10%: Rp 12150000.0\n",
      "----------------------------------------\n",
      "Usia HP Redmi 14T Pro pada tahun 2025: 1 tahun\n",
      "----------------------------------------\n",
      "Usia HP Apple iphone 13 pada tahun 2025: 3 tahun\n",
      "----------------------------------------\n",
      "Harga dan tahun HP Redmi 14T Pro diperbarui menjadi Rp 8000000 dan tahun 2024\n",
      "----------------------------------------\n",
      "Harga dan tahun HP Apple iphone 13 diperbarui menjadi Rp 11000000 dan tahun 2022\n",
      "----------------------------------------\n"
     ]
    }
   ],
   "source": [
    "# PROGRAM PENJUALAN HP\n",
    "from penjualan_hp import HP\n",
    "\n",
    "def main():\n",
    "    hp1 = HP(\"Redmi\", \"14T Pro\", 2024, 9000000)\n",
    "    hp2 =HP(\"Apple\", \"iphone 13\", 2022, 13500000)\n",
    "\n",
    "    hp1.tampilkan_info()\n",
    "    hp2.tampilkan_info()\n",
    "    \n",
    "    hp1.diskon(5)\n",
    "    hp2.diskon(10)\n",
    "    \n",
    "    usia_hp1 = hp1.hitung_usia(2025)\n",
    "    usia_hp2 = hp2.hitung_usia(2025)\n",
    "    \n",
    "    print(f\"Usia HP {hp1.merk} {hp1.model} pada tahun 2025: {usia_hp1} tahun\")\n",
    "    print(\"-\" * 40)  # Garis batas\n",
    "    print(f\"Usia HP {hp2.merk} {hp2.model} pada tahun 2025: {usia_hp2} tahun\")\n",
    "    print(\"-\" * 40)  # Garis batas\n",
    "    \n",
    "    hp1.perbarui_harga(8000000, 2024)\n",
    "    hp2.perbarui_harga(11000000, 2022)\n",
    "    \n",
    "if __name__ == \"__main__\":\n",
    "    main()"
   ]
  },
  {
   "cell_type": "code",
   "execution_count": null,
   "metadata": {},
   "outputs": [],
   "source": []
  }
 ],
 "metadata": {
  "kernelspec": {
   "display_name": "base",
   "language": "python",
   "name": "python3"
  },
  "language_info": {
   "codemirror_mode": {
    "name": "ipython",
    "version": 3
   },
   "file_extension": ".py",
   "mimetype": "text/x-python",
   "name": "python",
   "nbconvert_exporter": "python",
   "pygments_lexer": "ipython3",
   "version": "3.12.7"
  }
 },
 "nbformat": 4,
 "nbformat_minor": 2
}
